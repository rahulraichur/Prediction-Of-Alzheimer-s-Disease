{
  "nbformat": 4,
  "nbformat_minor": 0,
  "metadata": {
    "colab": {
      "name": "alzheimer's-segmentation.ipynb",
      "provenance": []
    },
    "kernelspec": {
      "name": "python3",
      "display_name": "Python 3"
    },
    "accelerator": "GPU"
  },
  "cells": [
    {
      "cell_type": "code",
      "metadata": {
        "id": "UO9yc_-jSB6k"
      },
      "source": [
        "import os"
      ],
      "execution_count": null,
      "outputs": []
    },
    {
      "cell_type": "code",
      "metadata": {
        "id": "tjt_hTQcSDWh"
      },
      "source": [
        "os.chdir(\"/content\")"
      ],
      "execution_count": null,
      "outputs": []
    },
    {
      "cell_type": "markdown",
      "metadata": {
        "id": "f2osDh8QlLdA"
      },
      "source": [
        "#Data Download"
      ]
    },
    {
      "cell_type": "code",
      "metadata": {
        "colab": {
          "base_uri": "https://localhost:8080/"
        },
        "id": "fZTHUQ7olNdW",
        "outputId": "d699a8b2-9ef4-42a8-b292-6f9af82d6d01"
      },
      "source": [
        "!wget 'https://ndownloader.figshare.com/articles/1512427/versions/5'"
      ],
      "execution_count": null,
      "outputs": [
        {
          "output_type": "stream",
          "text": [
            "--2020-12-18 11:45:41--  https://ndownloader.figshare.com/articles/1512427/versions/5\n",
            "Resolving ndownloader.figshare.com (ndownloader.figshare.com)... 3.248.117.254, 34.247.1.128, 34.247.231.218, ...\n",
            "Connecting to ndownloader.figshare.com (ndownloader.figshare.com)|3.248.117.254|:443... connected.\n",
            "HTTP request sent, awaiting response... 200 OK\n",
            "Length: 879501695 (839M) [application/zip]\n",
            "Saving to: ‘5’\n",
            "\n",
            "5                   100%[===================>] 838.76M  26.3MB/s    in 33s     \n",
            "\n",
            "2020-12-18 11:46:14 (25.1 MB/s) - ‘5’ saved [879501695/879501695]\n",
            "\n"
          ],
          "name": "stdout"
        }
      ]
    },
    {
      "cell_type": "code",
      "metadata": {
        "colab": {
          "base_uri": "https://localhost:8080/"
        },
        "id": "SRCZZgRwlZIV",
        "outputId": "d0868640-f019-45cf-aee1-1a65bb16e1fc"
      },
      "source": [
        "!unzip '/content/drive/MyDrive/ACM/Brain-Tumor-Segmentation/data/5'"
      ],
      "execution_count": null,
      "outputs": [
        {
          "output_type": "stream",
          "text": [
            "Archive:  /content/drive/MyDrive/ACM/Brain-Tumor-Segmentation/data/5\n",
            " extracting: brainTumorDataPublic_1-766.zip  \n",
            " extracting: brainTumorDataPublic_1533-2298.zip  \n",
            " extracting: brainTumorDataPublic_767-1532.zip  \n",
            " extracting: brainTumorDataPublic_2299-3064.zip  \n",
            " extracting: cvind.mat               \n",
            " extracting: README.txt              \n"
          ],
          "name": "stdout"
        }
      ]
    },
    {
      "cell_type": "markdown",
      "metadata": {
        "id": "HjFP_JPtoWNj"
      },
      "source": [
        "##MAT to JPG"
      ]
    },
    {
      "cell_type": "code",
      "metadata": {
        "colab": {
          "base_uri": "https://localhost:8080/",
          "height": 269
        },
        "id": "YK_xZDMOoY0Y",
        "outputId": "58a99f03-f895-4cf5-c8fc-63aabc6676c8"
      },
      "source": [
        "import matplotlib.pyplot as plt\r\n",
        "import numpy as np\r\n",
        "import h5py\r\n",
        "from PIL import Image\r\n",
        "\r\n",
        "#reading v 7.3 mat file in python\r\n",
        "#https://stackoverflow.com/questions/17316880/reading-v-7-3-mat-file-in-python\r\n",
        "\r\n",
        "filepath = '/content/drive/MyDrive/ACM/Brain-Tumor-Segmentation/data/matFile/100.mat';\r\n",
        "f = h5py.File(filepath, 'r') #Open mat file for reading\r\n",
        "\r\n",
        "#In MATLAB the data is arranged as follows:\r\n",
        "#cjdata is a MATLAB struct\r\n",
        "#cjdata.image is a matrix of type int16\r\n",
        "\r\n",
        "#Before update: read only image data.   \r\n",
        "####################################################################\r\n",
        "#Read cjdata struct, get image member and convert numpy ndarray of type float\r\n",
        "#image = np.array(f['cjdata'].get('image')).astype(np.float64) #In MATLAB: image = cjdata.image\r\n",
        "#f.close()\r\n",
        "####################################################################\r\n",
        "\r\n",
        "#Update: Read all elements of cjdata struct\r\n",
        "####################################################################\r\n",
        "#Read cjdata struct\r\n",
        "cjdata = f['cjdata'] #<HDF5 group \"/cjdata\" (5 members)>\r\n",
        "\r\n",
        "# In MATLAB cjdata = \r\n",
        "# struct with fields:\r\n",
        "#   label: 1\r\n",
        "#   PID: '100360'\r\n",
        "#   image: [512×512 int16]\r\n",
        "#   tumorBorder: [38×1 double]\r\n",
        "#   tumorMask: [512×512 logical]\r\n",
        "\r\n",
        "#get image member and convert numpy ndarray of type float\r\n",
        "image = np.array(cjdata.get('image')).astype(np.float64) #In MATLAB: image = cjdata.image\r\n",
        "\r\n",
        "label = cjdata.get('label')[0,0] #Use [0,0] indexing in order to convert lable to scalar\r\n",
        "\r\n",
        "PID = cjdata.get('PID') # <HDF5 dataset \"PID\": shape (6, 1), type \"<u2\">\r\n",
        "PID = ''.join(chr(c) for c in PID) #Convert to string https://stackoverflow.com/questions/12036304/loading-hdf5-matlab-strings-into-python\r\n",
        "\r\n",
        "tumorBorder = np.array(cjdata.get('tumorBorder'))[0] #Use [0] indexing - convert from 2D array to 1D array.\r\n",
        "\r\n",
        "tumorMask = np.array(cjdata.get('tumorMask'))\r\n",
        "\r\n",
        "f.close()\r\n",
        "####################################################################\r\n",
        "\r\n",
        "#Convert image to uint8 (before saving as jpeg - jpeg doesn't support int16 format).\r\n",
        "#Use simple linear conversion: subtract minimum, and divide by range.\r\n",
        "#Note: the conversion is not optimal - you should find a better way.\r\n",
        "#Multiply by 255 to set values in uint8 range [0, 255], and covert to type uint8.\r\n",
        "hi = np.max(image)\r\n",
        "lo = np.min(image)\r\n",
        "image = (((image - lo)/(hi-lo))*255).astype(np.uint8)\r\n",
        "\r\n",
        "#Save as jpeg\r\n",
        "#https://stackoverflow.com/questions/902761/saving-a-numpy-array-as-an-image\r\n",
        "im = Image.fromarray(image)\r\n",
        "im.save(\"1.jpg\")\r\n",
        "\r\n",
        "#Display image for testing\r\n",
        "imgplot = plt.imshow(image)\r\n",
        "plt.show()"
      ],
      "execution_count": null,
      "outputs": [
        {
          "output_type": "display_data",
          "data": {
            "image/png": "[encoded data removed]",
            "text/plain": [
              "<Figure size 432x288 with 1 Axes>"
            ]
          },
          "metadata": {
            "tags": [],
            "needs_background": "light"
          }
        }
      ]
    },
    {
      "cell_type": "code",
      "metadata": {
        "id": "0cIEvKbqROBQ"
      },
      "source": [
        "# !git clone https://github.com/sdsubhajitdas/Brain-Tumor-Segmentation.git"
      ],
      "execution_count": null,
      "outputs": []
    },
    {
      "cell_type": "code",
      "metadata": {
        "id": "JVFh-UOeR_Ne"
      },
      "source": [
        "# !pip install -r requirements.txt"
      ],
      "execution_count": null,
      "outputs": []
    },
    {
      "cell_type": "code",
      "metadata": {
        "id": "IvHZE_A9S3rU"
      },
      "source": [
        "!python api.py --file '/content/drive/MyDrive/ACM/Brain-Tumor-Segmentation/images/API/Original Image/3000.png' --odp '/content/drive/MyDrive/ACM/Brain-Tumor-Segmentation/images/output'"
      ],
      "execution_count": null,
      "outputs": []
    },
    {
      "cell_type": "code",
      "metadata": {
        "id": "HAsFMys5U-sS"
      },
      "source": [
        "import matplotlib.pyplot as plt"
      ],
      "execution_count": null,
      "outputs": []
    },
    {
      "cell_type": "code",
      "metadata": {
        "id": "wNjVjnSVW8RF"
      },
      "source": [
        "import cv2"
      ],
      "execution_count": null,
      "outputs": []
    },
    {
      "cell_type": "code",
      "metadata": {
        "id": "TKU_u8xFW9ux"
      },
      "source": [
        "img = plt.imread('/content/drive/MyDrive/ACM/Brain-Tumor-Segmentation/images/API/Original Image/3000_predicted.png')"
      ],
      "execution_count": null,
      "outputs": []
    },
    {
      "cell_type": "code",
      "metadata": {
        "colab": {
          "base_uri": "https://localhost:8080/",
          "height": 286
        },
        "id": "ykNg1nvOXAtU",
        "outputId": "104e4df7-8ef3-4070-a7c5-d56be0026089"
      },
      "source": [
        "plt.imshow(img)"
      ],
      "execution_count": null,
      "outputs": [
        {
          "output_type": "execute_result",
          "data": {
            "text/plain": [
              "<matplotlib.image.AxesImage at 0x7f79483dbe48>"
            ]
          },
          "metadata": {
            "tags": []
          },
          "execution_count": 14
        },
        {
          "output_type": "display_data",
          "data": {
            "image/png": "[encoded data removed]",
            "text/plain": [
              "<Figure size 432x288 with 1 Axes>"
            ]
          },
          "metadata": {
            "tags": [],
            "needs_background": "light"
          }
        }
      ]
    },
    {
      "cell_type": "markdown",
      "metadata": {
        "id": "gXKH42e7HSWu"
      },
      "source": [
        "##download_dataset.py"
      ]
    },
    {
      "cell_type": "code",
      "metadata": {
        "id": "eL6yFiDjE7Ph"
      },
      "source": [
        "import requests\r\n",
        "from tqdm import tqdm\r\n",
        "import os\r\n",
        "import argparse\r\n",
        "\r\n",
        "\r\n",
        "def check_if_file_exits(file):\r\n",
        "    \"\"\" Checks if the file specified is downloaded or not.\r\n",
        "    Parameters:\r\n",
        "        file(str): Name of the file to be checked.\r\n",
        "    Returns: None\r\n",
        "    \"\"\"\r\n",
        "    extension = file[-3:]\r\n",
        "    file = file[:-4] + '_done.'+extension\r\n",
        "    return True if os.path.isfile(file) else False\r\n",
        "\r\n",
        "\r\n",
        "def download_file(url, path):\r\n",
        "    \"\"\" Download the file in url to the path specified.\r\n",
        "    Parameters:\r\n",
        "        url(str): URL of the file to be downloaded.\r\n",
        "        path(str): Destination where the downloaded file will be saved.\r\n",
        "    Returns: None\r\n",
        "    \"\"\"\r\n",
        "    # Check if file already exists.\r\n",
        "    if check_if_file_exits(path):\r\n",
        "        print(f'Already existing file {path}')\r\n",
        "        return\r\n",
        "\r\n",
        "    # Deleting the partial downloaded file.\r\n",
        "    if os.path.isfile(path):\r\n",
        "        print(f'Deleted existing partial file {path}')\r\n",
        "        os.remove(path)\r\n",
        "\r\n",
        "    response = requests.get(url, stream=True)\r\n",
        "    handle = open(path, \"wb\")\r\n",
        "    with open(path, \"wb\") as handle:\r\n",
        "        chunk_size = 1024\r\n",
        "        total_size = round(int(response.headers['Content-Length']), 3)\r\n",
        "        pbar = tqdm(unit=\"B\", total=total_size)\r\n",
        "        for chunk in response.iter_content(chunk_size=chunk_size):\r\n",
        "            if chunk:  # filter out keep-alive new chunks\r\n",
        "                handle.write(chunk)\r\n",
        "                pbar.update(len(chunk))\r\n",
        "\r\n",
        "    # Marking the file as downloaded.\r\n",
        "    extension = path[-3:]\r\n",
        "    os.rename(path, path[:-4]+'_done.'+extension)\r\n",
        "\r\n",
        "\r\n",
        "def make_folder(target_folder):\r\n",
        "    \"\"\"Creates folder if there is no folder in the specified path.\r\n",
        "    Parameters: \r\n",
        "        target_folder(str): path of the folder which needs to be created.\r\n",
        "    Returns: None\r\n",
        "    \"\"\"\r\n",
        "    if not (os.path.isdir(target_folder)):\r\n",
        "        print(f'Creating {target_folder} folder')\r\n",
        "        os.mkdir(target_folder)\r\n",
        "\r\n",
        "\r\n",
        "def clear_screen():\r\n",
        "    \"\"\"Clears the console screen irrespective of os used\"\"\"\r\n",
        "    import platform\r\n",
        "    if platform.system() == 'Windows':\r\n",
        "        os.system('cls')\r\n",
        "        return\r\n",
        "    os.system('clear')\r\n",
        "\r\n",
        "\r\n",
        "def main():\r\n",
        "    # URL of the dataset used.\r\n",
        "    dataset_urls = ['https://ndownloader.figshare.com/files/3381290',\r\n",
        "                    'https://ndownloader.figshare.com/files/3381296',\r\n",
        "                    'https://ndownloader.figshare.com/files/3381293',\r\n",
        "                    'https://ndownloader.figshare.com/files/3381302']\r\n",
        "\r\n",
        "    # URL of dataset README\r\n",
        "    dataset_readme = 'https://ndownloader.figshare.com/files/7953679'\r\n",
        "\r\n",
        "    target_folder = 'dataset'\r\n",
        "    dataset_part = 1\r\n",
        "    dataset_file_name = f'brain_tumor_dataset_part_'\r\n",
        "\r\n",
        "    clear_screen()\r\n",
        "    make_folder(target_folder)\r\n",
        "\r\n",
        "    print(f'\\n\\tDownloading dataset README.txt')\r\n",
        "    download_file(dataset_readme, os.path.join(target_folder, 'README.TXT'))\r\n",
        "\r\n",
        "    print('\\n\\tStarting download process\\n')\r\n",
        "    for url in dataset_urls:\r\n",
        "        try:\r\n",
        "            path = os.path.join(\r\n",
        "                target_folder, f'{dataset_file_name}{dataset_part}.zip')\r\n",
        "            print(f'\\t\\tDownloading :  {path}')\r\n",
        "            download_file(url, path)\r\n",
        "            dataset_part += 1\r\n",
        "        except KeyboardInterrupt:\r\n",
        "            print('\\t\\t\\n\\nDownload stopped')\r\n",
        "            break\r\n",
        "\r\n",
        "\r\n",
        "if __name__ == \"__main__\":\r\n",
        "    main()"
      ],
      "execution_count": null,
      "outputs": []
    },
    {
      "cell_type": "markdown",
      "metadata": {
        "id": "kC3rZYL7HPzT"
      },
      "source": [
        "##extract_images.py"
      ]
    },
    {
      "cell_type": "code",
      "metadata": {
        "colab": {
          "base_uri": "https://localhost:8080/"
        },
        "id": "KZcxVavjGKo7",
        "outputId": "cb3cb8e5-998e-4354-cde7-9639359eff45"
      },
      "source": [
        "import h5py\r\n",
        "import numpy as np\r\n",
        "import matplotlib.image as mpimg\r\n",
        "from tqdm import tqdm\r\n",
        "import os\r\n",
        "\r\n",
        "\r\n",
        "def clear_screen():\r\n",
        "    \"\"\"Clears the console screen irrespective of os used\"\"\"\r\n",
        "    import platform\r\n",
        "    if platform.system() == 'Windows':\r\n",
        "        os.system('cls')\r\n",
        "        return\r\n",
        "    os.system('clear')\r\n",
        "\r\n",
        "\r\n",
        "def make_folder(target_folder):\r\n",
        "    \"\"\"Creates folder if there is no folder in the specified path.\r\n",
        "    Parameters: \r\n",
        "        target_folder(str): path of the folder which needs to be created.\r\n",
        "    Returns: None\r\n",
        "    \"\"\"\r\n",
        "    if not (os.path.isdir(target_folder)):\r\n",
        "        print(f'Creating {target_folder} folder')\r\n",
        "        os.mkdir(target_folder)\r\n",
        "\r\n",
        "\r\n",
        "def get_image_data(filename, path):\r\n",
        "    \"\"\" Reads the mat image file and returns the image & mask array.\r\n",
        "    Parameters:\r\n",
        "        filename(str): Name of the file without the extension.\r\n",
        "        path(str): Path where the filename is located.\r\n",
        "    Returns:\r\n",
        "        data(dict): A dictionary with the image & mask numpy array.\r\n",
        "                    'image': The numpy array for image.\r\n",
        "                    'mask' : The numpy array for the above image mask.\r\n",
        "    \"\"\"\r\n",
        "    path = os.path.join(path, filename+'.mat')\r\n",
        "    file = h5py.File(path, 'r')\r\n",
        "    data = dict()\r\n",
        "    data['image'] = np.array(file.get('cjdata/image'))\r\n",
        "    data['mask'] = np.array(file.get('cjdata/tumorMask'))\r\n",
        "    return data\r\n",
        "\r\n",
        "\r\n",
        "def save_image_data(filename, path, data):\r\n",
        "    \"\"\" Saves the image & mask array in png format.\r\n",
        "    Parameters:\r\n",
        "        filename(str): Name of the file without the extension.\r\n",
        "        path(str): Path where the filename is to be saved.\r\n",
        "        data(dict): A dictionary with the image & mask numpy array.\r\n",
        "                    'image': The numpy array for image.\r\n",
        "                    'mask' : The numpy array for the above image mask.\r\n",
        "    Returns: None\r\n",
        "    \"\"\"\r\n",
        "    path_image = os.path.join(path, filename+'.png')\r\n",
        "    path_mask = os.path.join(path, filename+'_mask.png')\r\n",
        "    mpimg.imsave(path_image, data['image'], cmap='gray', format='png')\r\n",
        "    mpimg.imsave(path_mask, data['mask'], cmap='gray', format='png')\r\n",
        "\r\n",
        "\r\n",
        "def main():\r\n",
        "    # Total number of images\r\n",
        "    total_images = 3064\r\n",
        "\r\n",
        "    # Dataset paths\r\n",
        "    data_read_path = os.path.join('dataset', 'mat_dataset')\r\n",
        "    data_save_path = os.path.join('dataset', 'png_dataset')\r\n",
        "\r\n",
        "    clear_screen()\r\n",
        "\r\n",
        "    # Make if folder is missing.\r\n",
        "    make_folder(data_save_path)\r\n",
        "\r\n",
        "    print(f'Starting to save images in {data_save_path}')\r\n",
        "\r\n",
        "    for filename in tqdm(range(1, total_images+1)):\r\n",
        "        filename = str(filename)\r\n",
        "        data = get_image_data(filename, data_read_path)\r\n",
        "        save_image_data(str(int(filename)-1), data_save_path, data)\r\n",
        "\r\n",
        "\r\n",
        "if __name__ == \"__main__\":\r\n",
        "    main()"
      ],
      "execution_count": null,
      "outputs": [
        {
          "output_type": "stream",
          "text": [
            "  0%|          | 1/3064 [00:00<07:21,  6.94it/s]"
          ],
          "name": "stderr"
        },
        {
          "output_type": "stream",
          "text": [
            "Starting to save images in dataset/png_dataset\n"
          ],
          "name": "stdout"
        },
        {
          "output_type": "stream",
          "text": [
            "100%|██████████| 3064/3064 [06:25<00:00,  7.95it/s]\n"
          ],
          "name": "stderr"
        }
      ]
    },
    {
      "cell_type": "markdown",
      "metadata": {
        "id": "1r3p9xcqHFNu"
      },
      "source": [
        "##unzip_dataset.py"
      ]
    },
    {
      "cell_type": "code",
      "metadata": {
        "colab": {
          "base_uri": "https://localhost:8080/"
        },
        "id": "fCUizz9lGlBz",
        "outputId": "8869bd87-d67e-40c2-f59c-ef6caf233452"
      },
      "source": [
        "\r\n",
        "from zipfile import ZipFile\r\n",
        "import os\r\n",
        "\r\n",
        "\r\n",
        "def clear_screen():\r\n",
        "    \"\"\"Clears the console screen irrespective of os used\"\"\"\r\n",
        "    import platform\r\n",
        "    if platform.system() == 'Windows':\r\n",
        "        os.system('cls')\r\n",
        "        return\r\n",
        "    os.system('clear')\r\n",
        "\r\n",
        "\r\n",
        "def unzip_file(source_name, destination):\r\n",
        "    \"\"\" Unizips a zip file and stores the contents in destination folder.\r\n",
        "    Parameters:\r\n",
        "        source_name(str): Full path of the source path\r\n",
        "        destination(str): Full folder path where contents of source_name will be stored.\r\n",
        "    Returns: None\r\n",
        "    \"\"\"\r\n",
        "    with ZipFile(source_name, 'r') as zipfile:\r\n",
        "        # extracting all the files\r\n",
        "        print(f'\\tExtracting files of {source_name}')\r\n",
        "        zipfile.extractall(destination)\r\n",
        "        print(f'\\tDone with {source_name}')\r\n",
        "\r\n",
        "\r\n",
        "def make_folder(target_folder):\r\n",
        "    \"\"\"Creates folder if there is no folder in the specified path.\r\n",
        "    Parameters: \r\n",
        "        target_folder(str): path of the folder which needs to be created.\r\n",
        "    Returns: None\r\n",
        "    \"\"\"\r\n",
        "    if not (os.path.isdir(target_folder)):\r\n",
        "        print(f'Creating {target_folder} folder')\r\n",
        "        os.mkdir(target_folder)\r\n",
        "\r\n",
        "\r\n",
        "def main():\r\n",
        "    # Clears the screen.\r\n",
        "    clear_screen()\r\n",
        "\r\n",
        "    # File names in a list.\r\n",
        "    file_names = [\r\n",
        "        f'brain_tumor_dataset_part_{i}_done.zip' for i in range(1, 5)]\r\n",
        "\r\n",
        "    # Destination folder to store files.\r\n",
        "    destination = os.path.join('dataset', 'mat_dataset')\r\n",
        "    # Make the destination folder.\r\n",
        "    make_folder(os.path.join('dataset', 'mat_dataset'))\r\n",
        "\r\n",
        "    for file in file_names:\r\n",
        "        path = os.path.join('dataset', file)\r\n",
        "        unzip_file(path, destination)\r\n",
        "\r\n",
        "\r\n",
        "if __name__ == \"__main__\":\r\n",
        "    main()"
      ],
      "execution_count": null,
      "outputs": [
        {
          "output_type": "stream",
          "text": [
            "Creating dataset/mat_dataset folder\n",
            "\tExtracting files of dataset/brain_tumor_dataset_part_1_done.zip\n",
            "\tDone with dataset/brain_tumor_dataset_part_1_done.zip\n",
            "\tExtracting files of dataset/brain_tumor_dataset_part_2_done.zip\n",
            "\tDone with dataset/brain_tumor_dataset_part_2_done.zip\n",
            "\tExtracting files of dataset/brain_tumor_dataset_part_3_done.zip\n",
            "\tDone with dataset/brain_tumor_dataset_part_3_done.zip\n",
            "\tExtracting files of dataset/brain_tumor_dataset_part_4_done.zip\n",
            "\tDone with dataset/brain_tumor_dataset_part_4_done.zip\n"
          ],
          "name": "stdout"
        }
      ]
    },
    {
      "cell_type": "code",
      "metadata": {
        "colab": {
          "base_uri": "https://localhost:8080/"
        },
        "id": "QaBGIqf2GtqU",
        "outputId": "38f395ae-2038-40ab-c2e4-6c548653e367"
      },
      "source": [
        "!git clone 'https://github.com/sdsubhajitdas/Brain-Tumor-Segmentation.git'"
      ],
      "execution_count": null,
      "outputs": [
        {
          "output_type": "stream",
          "text": [
            "Cloning into 'Brain-Tumor-Segmentation'...\n",
            "remote: Enumerating objects: 24, done.\u001b[K\n",
            "remote: Counting objects: 100% (24/24), done.\u001b[K\n",
            "remote: Compressing objects: 100% (22/22), done.\u001b[K\n",
            "remote: Total 440 (delta 11), reused 4 (delta 2), pack-reused 416\u001b[K\n",
            "Receiving objects: 100% (440/440), 37.96 MiB | 3.89 MiB/s, done.\n",
            "Resolving deltas: 100% (128/128), done.\n"
          ],
          "name": "stdout"
        }
      ]
    },
    {
      "cell_type": "code",
      "metadata": {
        "id": "nANmWswpOsEz"
      },
      "source": [
        "os.chdir('/content/Brain-Tumor-Segmentation')"
      ],
      "execution_count": null,
      "outputs": []
    },
    {
      "cell_type": "code",
      "metadata": {
        "colab": {
          "base_uri": "https://localhost:8080/",
          "height": 296
        },
        "id": "iKFYjmI6PRh5",
        "outputId": "21a6bd0a-93e0-4f28-c3bb-6e8ef34125da"
      },
      "source": [
        "from tensorboardX import SummaryWriter"
      ],
      "execution_count": null,
      "outputs": [
        {
          "output_type": "error",
          "ename": "ModuleNotFoundError",
          "evalue": "ignored",
          "traceback": [
            "\u001b[0;31m---------------------------------------------------------------------------\u001b[0m",
            "\u001b[0;31mModuleNotFoundError\u001b[0m                       Traceback (most recent call last)",
            "\u001b[0;32m<ipython-input-14-447df71b09db>\u001b[0m in \u001b[0;36m<module>\u001b[0;34m()\u001b[0m\n\u001b[0;32m----> 1\u001b[0;31m \u001b[0;32mfrom\u001b[0m \u001b[0mtensorboardX\u001b[0m \u001b[0;32mimport\u001b[0m \u001b[0mSummaryWriter\u001b[0m\u001b[0;34m\u001b[0m\u001b[0;34m\u001b[0m\u001b[0m\n\u001b[0m",
            "\u001b[0;31mModuleNotFoundError\u001b[0m: No module named 'tensorboardX'",
            "",
            "\u001b[0;31m---------------------------------------------------------------------------\u001b[0;32m\nNOTE: If your import is failing due to a missing package, you can\nmanually install dependencies using either !pip or !apt.\n\nTo view examples of installing some common dependencies, click the\n\"Open Examples\" button below.\n\u001b[0;31m---------------------------------------------------------------------------\u001b[0m\n"
          ]
        }
      ]
    },
    {
      "cell_type": "markdown",
      "metadata": {
        "id": "Bi_mfwwwhcPO"
      },
      "source": [
        "#Dependencies"
      ]
    },
    {
      "cell_type": "code",
      "metadata": {
        "colab": {
          "base_uri": "https://localhost:8080/"
        },
        "id": "bomnOVNQMLOF",
        "outputId": "acc95d53-fa96-4c8b-8d98-e6d526736149"
      },
      "source": [
        "import os\r\n",
        "import warnings\r\n",
        "import pickle\r\n",
        "warnings.filterwarnings('ignore')\r\n",
        "\r\n",
        "import torch\r\n",
        "from torch.utils.data import SubsetRandomSampler\r\n",
        "\r\n",
        "import numpy as np\r\n",
        "%matplotlib inline\r\n",
        "\r\n",
        "import bts.dataset as dataset\r\n",
        "import bts.model as model\r\n",
        "import bts.classifier as classifier\r\n",
        "import bts.plot as plot\r\n",
        "\r\n",
        "device = torch.device('cuda' if torch.cuda.is_available() else 'cpu')\r\n",
        "\r\n",
        "print('Computation Details')\r\n",
        "print(f'\\tDevice Used: ({device})  {torch.cuda.get_device_name(torch.cuda.current_device())}\\n')\r\n",
        "\r\n",
        "print('Packages Used Versions:-')\r\n",
        "print(f'\\tPytorch Version: {torch.__version__}')\r\n",
        "\r\n",
        "# To Start TensorBoard\r\n",
        "# tensorboard --logdir logs --samples_per_plugin images=200"
      ],
      "execution_count": null,
      "outputs": [
        {
          "output_type": "stream",
          "text": [
            "Computation Details\n",
            "\tDevice Used: (cuda)  Tesla P100-PCIE-16GB\n",
            "\n",
            "Packages Used Versions:-\n",
            "\tPytorch Version: 1.7.0+cu101\n"
          ],
          "name": "stdout"
        }
      ]
    },
    {
      "cell_type": "markdown",
      "metadata": {
        "id": "_DlPyYSchhc7"
      },
      "source": [
        "##Hyperparamters"
      ]
    },
    {
      "cell_type": "code",
      "metadata": {
        "colab": {
          "base_uri": "https://localhost:8080/"
        },
        "id": "m1st1HagOko-",
        "outputId": "50cc57bb-3cc0-452e-8f16-834729f45442"
      },
      "source": [
        "# Dataset part used for testing\r\n",
        "TEST_SPLIT = 0.2\r\n",
        "# Batch size for training. Limited by GPU memory\r\n",
        "BATCH_SIZE = 6\r\n",
        "# Dataset folder used\r\n",
        "DATASET_USED = 'png_dataset'\r\n",
        "# Full Dataset path\r\n",
        "DATASET_PATH = os.path.join('/content/dataset',DATASET_USED)\r\n",
        "# Training Epochs\r\n",
        "EPOCHS = 100\r\n",
        "# Filters used in UNet Model\r\n",
        "FILTER_LIST = [16,32,64,128,256]\r\n",
        "# Flag to train the model\r\n",
        "TRAIN = False\r\n",
        "# Flag to load saved model\r\n",
        "LOAD_MODEL = True\r\n",
        "# Flag to save model trained\r\n",
        "SAVE_MODEL = False\r\n",
        "# Model name to save or load.\r\n",
        "MODEL_NAME = f\"UNet-{FILTER_LIST}.pt\"\r\n",
        "\r\n",
        "print(f\"Model Name :   {MODEL_NAME}\")"
      ],
      "execution_count": null,
      "outputs": [
        {
          "output_type": "stream",
          "text": [
            "Model Name :   UNet-[16, 32, 64, 128, 256].pt\n"
          ],
          "name": "stdout"
        }
      ]
    },
    {
      "cell_type": "code",
      "metadata": {
        "id": "htAvNbDSQoC1"
      },
      "source": [
        "def get_indices(length, new=False):\r\n",
        "    \"\"\" Gets the Training & Testing data indices for a\r\n",
        "    paticular \"DATASET_USED\".Stores the indices and returns\r\n",
        "    them back when the same dataset is used.\r\n",
        "    Parameters:\r\n",
        "        length(int): Length of the dataset used.\r\n",
        "        new(bool): Discard the saved indices and get new ones.\r\n",
        "    Return:\r\n",
        "        train_indices(list): Array of indices used for training purpose.\r\n",
        "        test_indices(list): Array of indices used for testing purpose.\r\n",
        "    \"\"\"\r\n",
        "    # Pickle file location of the indices.\r\n",
        "    file_path = os.path.join('dataset',f'split_indices_{DATASET_USED}.p')\r\n",
        "    data = dict()\r\n",
        "    if os.path.isfile(file_path) and not new:\r\n",
        "        # File found.\r\n",
        "        with open(file_path,'rb') as file :\r\n",
        "            data = pickle.load(file)\r\n",
        "            return data['train_indices'], data['test_indices']\r\n",
        "    else:\r\n",
        "        # File not found or fresh copy is required.\r\n",
        "        indices = list(range(length))\r\n",
        "        np.random.shuffle(indices)\r\n",
        "        split = int(np.floor(TEST_SPLIT * len(tumor_dataset)))\r\n",
        "        train_indices , test_indices = indices[split:], indices[:split]\r\n",
        "        # Indices are saved with pickle.\r\n",
        "        data['train_indices'] = train_indices\r\n",
        "        data['test_indices'] = test_indices\r\n",
        "        with open(file_path,'wb') as file:\r\n",
        "            pickle.dump(data,file)\r\n",
        "    return train_indices, test_indices"
      ],
      "execution_count": null,
      "outputs": []
    },
    {
      "cell_type": "markdown",
      "metadata": {
        "id": "NT9MgH9dhl_K"
      },
      "source": [
        "##Data Loader"
      ]
    },
    {
      "cell_type": "code",
      "metadata": {
        "id": "-lA0ZlKJQyjg"
      },
      "source": [
        "tumor_dataset = dataset.TumorDataset(DATASET_PATH)\r\n",
        "\r\n",
        "train_indices, test_indices = get_indices(len(tumor_dataset))\r\n",
        "train_sampler, test_sampler = SubsetRandomSampler(train_indices), SubsetRandomSampler(test_indices)\r\n",
        "\r\n",
        "trainloader = torch.utils.data.DataLoader(tumor_dataset, BATCH_SIZE, sampler=train_sampler)\r\n",
        "testloader = torch.utils.data.DataLoader(tumor_dataset, 1, sampler=test_sampler)"
      ],
      "execution_count": null,
      "outputs": []
    },
    {
      "cell_type": "markdown",
      "metadata": {
        "id": "bKhvC7JVhqjY"
      },
      "source": [
        "##Load Model"
      ]
    },
    {
      "cell_type": "code",
      "metadata": {
        "colab": {
          "base_uri": "https://localhost:8080/"
        },
        "id": "wq3TGR6vQ2K3",
        "outputId": "53d091ab-6e34-4954-b0fa-c3e32fa79047"
      },
      "source": [
        "unet_model = None\r\n",
        "unet_classifier = None\r\n",
        "if not LOAD_MODEL:\r\n",
        "    # New model is created.\r\n",
        "    unet_model = model.DynamicUNet(FILTER_LIST).to(device)\r\n",
        "    unet_classifier = classifier.BrainTumorClassifier(unet_model,device)\r\n",
        "else:\r\n",
        "    # Saved model is loaded on memory.\r\n",
        "    unet_model = model.DynamicUNet(FILTER_LIST)\r\n",
        "    unet_classifier = classifier.BrainTumorClassifier(unet_model,device)\r\n",
        "    unet_classifier.restore_model(os.path.join('saved_models',MODEL_NAME))\r\n",
        "    print('Saved model loaded')"
      ],
      "execution_count": null,
      "outputs": [
        {
          "output_type": "stream",
          "text": [
            "Saved model loaded\n"
          ],
          "name": "stdout"
        }
      ]
    },
    {
      "cell_type": "markdown",
      "metadata": {
        "id": "MzXkXt_thvwj"
      },
      "source": [
        "##Trainer"
      ]
    },
    {
      "cell_type": "code",
      "metadata": {
        "id": "rFUJn_qhgpJm"
      },
      "source": [
        "# Training process\r\n",
        "if TRAIN:\r\n",
        "    unet_model.train()\r\n",
        "    path = os.path.join('saved_models',MODEL_NAME) if SAVE_MODEL else None\r\n",
        "    unet_train_history = unet_classifier.train(EPOCHS,trainloader,mini_batch=100,save_best=path)\r\n",
        "    print(f'Training Finished after {EPOCHS} epoches')\r\n",
        "\r\n",
        "# Testing process on test data.\r\n",
        "unet_model.eval()\r\n",
        "unet_score = unet_classifier.test(testloader)\r\n",
        "print(f'\\n\\nDice Score {unet_score}')\r\n",
        "# Dice Score 0.7446110107881675"
      ],
      "execution_count": null,
      "outputs": []
    },
    {
      "cell_type": "code",
      "metadata": {
        "id": "9o7eSBiXSVYJ"
      },
      "source": [
        "import cv2\r\n",
        "import matplotlib.pyplot as plt"
      ],
      "execution_count": null,
      "outputs": []
    },
    {
      "cell_type": "code",
      "metadata": {
        "id": "RHi-QoJ4Ts6_"
      },
      "source": [
        "img = cv2.imread('/content/dataset/png_dataset/0.png')"
      ],
      "execution_count": null,
      "outputs": []
    },
    {
      "cell_type": "code",
      "metadata": {
        "id": "ujrrM3hRTvuk"
      },
      "source": [
        "mask = cv2.imread('/content/dataset/png_dataset/0_mask.png')"
      ],
      "execution_count": null,
      "outputs": []
    },
    {
      "cell_type": "code",
      "metadata": {
        "colab": {
          "base_uri": "https://localhost:8080/",
          "height": 286
        },
        "id": "83LJ_Zy6TzmV",
        "outputId": "1f8f872a-2c97-4b76-ec80-a458072bc3b2"
      },
      "source": [
        "plt.imshow(img)"
      ],
      "execution_count": null,
      "outputs": [
        {
          "output_type": "execute_result",
          "data": {
            "text/plain": [
              "<matplotlib.image.AxesImage at 0x7fba4ccfc780>"
            ]
          },
          "metadata": {
            "tags": []
          },
          "execution_count": 29
        },
        {
          "output_type": "display_data",
          "data": {
            "image/png": "[encoded data removed]",
            "text/plain": [
              "<Figure size 432x288 with 1 Axes>"
            ]
          },
          "metadata": {
            "tags": [],
            "needs_background": "light"
          }
        }
      ]
    },
    {
      "cell_type": "code",
      "metadata": {
        "colab": {
          "base_uri": "https://localhost:8080/",
          "height": 286
        },
        "id": "Hal7Oa_iT4e2",
        "outputId": "e26de4d8-90f2-441b-812b-d135ac4934d7"
      },
      "source": [
        "plt.imshow(mask)"
      ],
      "execution_count": null,
      "outputs": [
        {
          "output_type": "execute_result",
          "data": {
            "text/plain": [
              "<matplotlib.image.AxesImage at 0x7fba4cc57278>"
            ]
          },
          "metadata": {
            "tags": []
          },
          "execution_count": 30
        },
        {
          "output_type": "display_data",
          "data": {
            "image/png": "[encoded data removed]",
            "text/plain": [
              "<Figure size 432x288 with 1 Axes>"
            ]
          },
          "metadata": {
            "tags": [],
            "needs_background": "light"
          }
        }
      ]
    },
    {
      "cell_type": "code",
      "metadata": {
        "colab": {
          "base_uri": "https://localhost:8080/",
          "height": 286
        },
        "id": "gv26KMRPUKXA",
        "outputId": "5a46b8d5-0a2e-441b-fdd3-6b78f5c18bdb"
      },
      "source": [
        "plt.imshow(img1)"
      ],
      "execution_count": null,
      "outputs": [
        {
          "output_type": "execute_result",
          "data": {
            "text/plain": [
              "<matplotlib.image.AxesImage at 0x7fba4cbb6a90>"
            ]
          },
          "metadata": {
            "tags": []
          },
          "execution_count": 33
        },
        {
          "output_type": "display_data",
          "data": {
            "image/png": "[encoded data removed]",
            "text/plain": [
              "<Figure size 432x288 with 1 Axes>"
            ]
          },
          "metadata": {
            "tags": [],
            "needs_background": "light"
          }
        }
      ]
    },
    {
      "cell_type": "code",
      "metadata": {
        "id": "0exx8tdlcYOK"
      },
      "source": [
        ""
      ],
      "execution_count": null,
      "outputs": []
    }
  ]
}