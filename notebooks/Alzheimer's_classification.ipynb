{
  "nbformat": 4,
  "nbformat_minor": 0,
  "metadata": {
    "accelerator": "GPU",
    "colab": {
      "name": "Alzheimer's_colab.ipynb",
      "provenance": []
    },
    "kernelspec": {
      "display_name": "Python 3",
      "language": "python",
      "name": "python3"
    },
    "language_info": {
      "codemirror_mode": {
        "name": "ipython",
        "version": 3
      },
      "file_extension": ".py",
      "mimetype": "text/x-python",
      "name": "python",
      "nbconvert_exporter": "python",
      "pygments_lexer": "ipython3",
      "version": "3.6.4"
    },
    "widgets": {
      "application/vnd.jupyter.widget-state+json": {
        "3ddc50a37bf74d4f95ec4c0cf60b9cc8": {
          "model_module": "@jupyter-widgets/controls",
          "model_name": "HBoxModel",
          "state": {
            "_view_name": "HBoxView",
            "_dom_classes": [],
            "_model_name": "HBoxModel",
            "_view_module": "@jupyter-widgets/controls",
            "_model_module_version": "1.5.0",
            "_view_count": null,
            "_view_module_version": "1.5.0",
            "box_style": "",
            "layout": "IPY_MODEL_130488f1c85e4bb29a627316b40d365d",
            "_model_module": "@jupyter-widgets/controls",
            "children": [
              "IPY_MODEL_3159dce9c8974b1bb4f8a3fa0e05b33c",
              "IPY_MODEL_90b59c18469b4ec59d801f6dabe8ce7b"
            ]
          }
        },
        "130488f1c85e4bb29a627316b40d365d": {
          "model_module": "@jupyter-widgets/base",
          "model_name": "LayoutModel",
          "state": {
            "_view_name": "LayoutView",
            "grid_template_rows": null,
            "right": null,
            "justify_content": null,
            "_view_module": "@jupyter-widgets/base",
            "overflow": null,
            "_model_module_version": "1.2.0",
            "_view_count": null,
            "flex_flow": null,
            "width": null,
            "min_width": null,
            "border": null,
            "align_items": null,
            "bottom": null,
            "_model_module": "@jupyter-widgets/base",
            "top": null,
            "grid_column": null,
            "overflow_y": null,
            "overflow_x": null,
            "grid_auto_flow": null,
            "grid_area": null,
            "grid_template_columns": null,
            "flex": null,
            "_model_name": "LayoutModel",
            "justify_items": null,
            "grid_row": null,
            "max_height": null,
            "align_content": null,
            "visibility": null,
            "align_self": null,
            "height": null,
            "min_height": null,
            "padding": null,
            "grid_auto_rows": null,
            "grid_gap": null,
            "max_width": null,
            "order": null,
            "_view_module_version": "1.2.0",
            "grid_template_areas": null,
            "object_position": null,
            "object_fit": null,
            "grid_auto_columns": null,
            "margin": null,
            "display": null,
            "left": null
          }
        },
        "3159dce9c8974b1bb4f8a3fa0e05b33c": {
          "model_module": "@jupyter-widgets/controls",
          "model_name": "FloatProgressModel",
          "state": {
            "_view_name": "ProgressView",
            "style": "IPY_MODEL_76bc85c702dd4437afc63f22a4cde1c3",
            "_dom_classes": [],
            "description": "100%",
            "_model_name": "FloatProgressModel",
            "bar_style": "success",
            "max": 21388428,
            "_view_module": "@jupyter-widgets/controls",
            "_model_module_version": "1.5.0",
            "value": 21388428,
            "_view_count": null,
            "_view_module_version": "1.5.0",
            "orientation": "horizontal",
            "min": 0,
            "description_tooltip": null,
            "_model_module": "@jupyter-widgets/controls",
            "layout": "IPY_MODEL_531c053cec364a26902ec4416814c539"
          }
        },
        "90b59c18469b4ec59d801f6dabe8ce7b": {
          "model_module": "@jupyter-widgets/controls",
          "model_name": "HTMLModel",
          "state": {
            "_view_name": "HTMLView",
            "style": "IPY_MODEL_7e5d8a6b721f4548beae4ca2c6a19694",
            "_dom_classes": [],
            "description": "",
            "_model_name": "HTMLModel",
            "placeholder": "​",
            "_view_module": "@jupyter-widgets/controls",
            "_model_module_version": "1.5.0",
            "value": " 20.4M/20.4M [00:02&lt;00:00, 8.26MB/s]",
            "_view_count": null,
            "_view_module_version": "1.5.0",
            "description_tooltip": null,
            "_model_module": "@jupyter-widgets/controls",
            "layout": "IPY_MODEL_b9b14339467042159a08297eaf06765e"
          }
        },
        "76bc85c702dd4437afc63f22a4cde1c3": {
          "model_module": "@jupyter-widgets/controls",
          "model_name": "ProgressStyleModel",
          "state": {
            "_view_name": "StyleView",
            "_model_name": "ProgressStyleModel",
            "description_width": "initial",
            "_view_module": "@jupyter-widgets/base",
            "_model_module_version": "1.5.0",
            "_view_count": null,
            "_view_module_version": "1.2.0",
            "bar_color": null,
            "_model_module": "@jupyter-widgets/controls"
          }
        },
        "531c053cec364a26902ec4416814c539": {
          "model_module": "@jupyter-widgets/base",
          "model_name": "LayoutModel",
          "state": {
            "_view_name": "LayoutView",
            "grid_template_rows": null,
            "right": null,
            "justify_content": null,
            "_view_module": "@jupyter-widgets/base",
            "overflow": null,
            "_model_module_version": "1.2.0",
            "_view_count": null,
            "flex_flow": null,
            "width": null,
            "min_width": null,
            "border": null,
            "align_items": null,
            "bottom": null,
            "_model_module": "@jupyter-widgets/base",
            "top": null,
            "grid_column": null,
            "overflow_y": null,
            "overflow_x": null,
            "grid_auto_flow": null,
            "grid_area": null,
            "grid_template_columns": null,
            "flex": null,
            "_model_name": "LayoutModel",
            "justify_items": null,
            "grid_row": null,
            "max_height": null,
            "align_content": null,
            "visibility": null,
            "align_self": null,
            "height": null,
            "min_height": null,
            "padding": null,
            "grid_auto_rows": null,
            "grid_gap": null,
            "max_width": null,
            "order": null,
            "_view_module_version": "1.2.0",
            "grid_template_areas": null,
            "object_position": null,
            "object_fit": null,
            "grid_auto_columns": null,
            "margin": null,
            "display": null,
            "left": null
          }
        },
        "7e5d8a6b721f4548beae4ca2c6a19694": {
          "model_module": "@jupyter-widgets/controls",
          "model_name": "DescriptionStyleModel",
          "state": {
            "_view_name": "StyleView",
            "_model_name": "DescriptionStyleModel",
            "description_width": "",
            "_view_module": "@jupyter-widgets/base",
            "_model_module_version": "1.5.0",
            "_view_count": null,
            "_view_module_version": "1.2.0",
            "_model_module": "@jupyter-widgets/controls"
          }
        },
        "b9b14339467042159a08297eaf06765e": {
          "model_module": "@jupyter-widgets/base",
          "model_name": "LayoutModel",
          "state": {
            "_view_name": "LayoutView",
            "grid_template_rows": null,
            "right": null,
            "justify_content": null,
            "_view_module": "@jupyter-widgets/base",
            "overflow": null,
            "_model_module_version": "1.2.0",
            "_view_count": null,
            "flex_flow": null,
            "width": null,
            "min_width": null,
            "border": null,
            "align_items": null,
            "bottom": null,
            "_model_module": "@jupyter-widgets/base",
            "top": null,
            "grid_column": null,
            "overflow_y": null,
            "overflow_x": null,
            "grid_auto_flow": null,
            "grid_area": null,
            "grid_template_columns": null,
            "flex": null,
            "_model_name": "LayoutModel",
            "justify_items": null,
            "grid_row": null,
            "max_height": null,
            "align_content": null,
            "visibility": null,
            "align_self": null,
            "height": null,
            "min_height": null,
            "padding": null,
            "grid_auto_rows": null,
            "grid_gap": null,
            "max_width": null,
            "order": null,
            "_view_module_version": "1.2.0",
            "grid_template_areas": null,
            "object_position": null,
            "object_fit": null,
            "grid_auto_columns": null,
            "margin": null,
            "display": null,
            "left": null
          }
        }
      }
    }
  },
  "cells": [
    {
      "cell_type": "code",
      "metadata": {
        "colab": {
          "base_uri": "https://localhost:8080/"
        },
        "id": "LBsXCyOoLvaP",
        "outputId": "984d1ee8-a695-49c8-ee68-c8d4940fb8b0"
      },
      "source": [
        "!nvidia-smi"
      ],
      "execution_count": 1,
      "outputs": [
        {
          "output_type": "stream",
          "text": [
            "Sat Dec 19 04:54:40 2020       \n",
            "+-----------------------------------------------------------------------------+\n",
            "| NVIDIA-SMI 455.45.01    Driver Version: 418.67       CUDA Version: 10.1     |\n",
            "|-------------------------------+----------------------+----------------------+\n",
            "| GPU  Name        Persistence-M| Bus-Id        Disp.A | Volatile Uncorr. ECC |\n",
            "| Fan  Temp  Perf  Pwr:Usage/Cap|         Memory-Usage | GPU-Util  Compute M. |\n",
            "|                               |                      |               MIG M. |\n",
            "|===============================+======================+======================|\n",
            "|   0  Tesla T4            Off  | 00000000:00:04.0 Off |                    0 |\n",
            "| N/A   44C    P8     9W /  70W |      0MiB / 15079MiB |      0%      Default |\n",
            "|                               |                      |                 ERR! |\n",
            "+-------------------------------+----------------------+----------------------+\n",
            "                                                                               \n",
            "+-----------------------------------------------------------------------------+\n",
            "| Processes:                                                                  |\n",
            "|  GPU   GI   CI        PID   Type   Process name                  GPU Memory |\n",
            "|        ID   ID                                                   Usage      |\n",
            "|=============================================================================|\n",
            "|  No running processes found                                                 |\n",
            "+-----------------------------------------------------------------------------+\n"
          ],
          "name": "stdout"
        }
      ]
    },
    {
      "cell_type": "markdown",
      "metadata": {
        "id": "bksOK3QJWujk"
      },
      "source": [
        "## Get Data"
      ]
    },
    {
      "cell_type": "code",
      "metadata": {
        "colab": {
          "base_uri": "https://localhost:8080/"
        },
        "id": "ou8nQtJZdU6N",
        "outputId": "bb2c47bd-f451-4d3c-fd9e-7827b38a2cf1"
      },
      "source": [
        "\n",
        "import os\n",
        "os.environ['KAGGLE_USERNAME'] = \"\" # username from the json file\n",
        "os.environ['KAGGLE_KEY'] = \"\" # key from the json file\n",
        "!kaggle datasets download -d tourist55/alzheimers-dataset-4-class-of-images"
      ],
      "execution_count": 3,
      "outputs": [
        {
          "output_type": "stream",
          "text": [
            "alzheimers-dataset-4-class-of-images.zip: Skipping, found more recently modified local copy (use --force to force download)\n"
          ],
          "name": "stdout"
        }
      ]
    },
    {
      "cell_type": "code",
      "metadata": {
        "id": "kDZe76hYe2mK"
      },
      "source": [
        "!unzip -qq /content/alzheimers-dataset-4-class-of-images.zip\n"
      ],
      "execution_count": 4,
      "outputs": []
    },
    {
      "cell_type": "markdown",
      "metadata": {
        "id": "9MpvtCQOXUi0"
      },
      "source": [
        "# Dependencies"
      ]
    },
    {
      "cell_type": "code",
      "metadata": {
        "id": "JfBI6dKDdTTf"
      },
      "source": [
        "!pip install -qq efficientnet_pytorch torchtoolbox\n",
        "!pip install -qq pytorch_ranger\n"
      ],
      "execution_count": 10,
      "outputs": []
    },
    {
      "cell_type": "code",
      "metadata": {
        "id": "ElqVHPOFdTT2"
      },
      "source": [
        "import torch\n",
        "import torchvision\n",
        "import torch.nn.functional as F\n",
        "import torch.nn as nn\n",
        "from torchvision import transforms\n",
        "from torch.utils.data import Dataset, DataLoader, Subset\n",
        "from torch.optim.lr_scheduler import ReduceLROnPlateau, OneCycleLR\n",
        "from sklearn.metrics import accuracy_score, roc_auc_score\n",
        "from sklearn.model_selection import StratifiedKFold\n",
        "import pandas as pd\n",
        "import numpy as np\n",
        "import gc\n",
        "import os\n",
        "import time\n",
        "import datetime\n",
        "import warnings\n",
        "import matplotlib.pyplot as plt\n",
        "import seaborn as sns\n",
        "from efficientnet_pytorch import EfficientNet\n",
        "import cv2\n",
        "from PIL import Image, ImageFilter\n",
        "from albumentations.pytorch import ToTensor\n",
        "import albumentations as albu\n",
        "from pytorch_ranger import Ranger\n",
        "%matplotlib inline\n",
        "\n"
      ],
      "execution_count": 11,
      "outputs": []
    },
    {
      "cell_type": "code",
      "metadata": {
        "id": "jtZQaJzGdTUZ"
      },
      "source": [
        "# At least fixing some random seeds. \n",
        "# It is still impossible to make results 100% reproducible when using GPU\n",
        "warnings.simplefilter('ignore')\n",
        "torch.manual_seed(47)\n",
        "np.random.seed(47)\n",
        "device = torch.device(\"cuda\" if torch.cuda.is_available() else \"cpu\")"
      ],
      "execution_count": 13,
      "outputs": []
    },
    {
      "cell_type": "code",
      "metadata": {
        "id": "m-YnafdudTUK",
        "colab": {
          "base_uri": "https://localhost:8080/"
        },
        "outputId": "e5d8a0a9-971e-44fd-e587-957a7d8fe4d6"
      },
      "source": [
        "!mkdir checkpoint\n",
        "train_df = pd.read_csv('train.csv')"
      ],
      "execution_count": 12,
      "outputs": [
        {
          "output_type": "stream",
          "text": [
            "mkdir: cannot create directory ‘checkpoint’: File exists\n"
          ],
          "name": "stdout"
        }
      ]
    },
    {
      "cell_type": "markdown",
      "metadata": {
        "id": "EcB8PxrxZ0Z5"
      },
      "source": [
        "# Dataloader\n"
      ]
    },
    {
      "cell_type": "code",
      "metadata": {
        "id": "GOXbAe5KdTUq"
      },
      "source": [
        "class Dataset(Dataset):\n",
        "    def __init__(self, df: pd.DataFrame, train: bool = True, transforms = None):\n",
        "        \"\"\"\n",
        "        Class initialization\n",
        "        Args:\n",
        "            df (pd.DataFrame): DataFrame with data description\n",
        "            data (np.ndarray): resized images data in a shape of (HxWxC)\n",
        "            train (bool): flag of whether a training dataset is being initialized or testing one\n",
        "            transforms: image transformation method to be applied\n",
        "            \n",
        "        \"\"\"\n",
        "        self.df = df\n",
        "        \n",
        "        self.transforms = transforms\n",
        "        self.train = train\n",
        "        \n",
        "    def __getitem__(self, index):\n",
        "        name = self.df.iloc[index,1]\n",
        "        \n",
        "        if self.train:\n",
        "          if name[0:4]=='mild':\n",
        "            path = 'Alzheimer_s Dataset/train/MildDemented/' + str(name)\n",
        "          elif name[0:4]=='very':\n",
        "            path='Alzheimer_s Dataset/train/VeryMildDemented/' + str(name)\n",
        "          elif name[0:4]=='nonD':\n",
        "            path='Alzheimer_s Dataset/train/NonDemented/' + str(name)   \n",
        "          else:\n",
        "            path= 'Alzheimer_s Dataset/train/ModerateDemented/' + str(name)  \n",
        "        else:\n",
        "          path = 'test/' + str(name)\n",
        "          \n",
        "        image = cv2.imread(path)\n",
        "        image = cv2.cvtColor(image, cv2.COLOR_BGR2RGB)\n",
        "        image = transforms.ToPILImage()(image)\n",
        "\n",
        "        if self.transforms:\n",
        "            image = self.transforms(image=np.array(image))\n",
        "            image=image['image']\n",
        "            \n",
        "        if self.train:\n",
        "            y = self.df.loc[index]['label']\n",
        "            return image, y\n",
        "        else:\n",
        "            return image\n",
        "    \n",
        "    def __len__(self):\n",
        "        return len(self.df)\n",
        "    \n",
        "    \n"
      ],
      "execution_count": 14,
      "outputs": []
    },
    {
      "cell_type": "markdown",
      "metadata": {
        "id": "CXsSyEY0Z5X_"
      },
      "source": [
        "Transforms"
      ]
    },
    {
      "cell_type": "code",
      "metadata": {
        "id": "gAS3A9oUdTU3"
      },
      "source": [
        "train_transform = albu.Compose([\n",
        "               albu.HorizontalFlip(),\n",
        "               albu.VerticalFlip(),\n",
        "               albu.Cutout(4),\n",
        "               albu.Rotate(limit=30),\n",
        "               albu.Resize(256,256),\n",
        "               albu.Normalize((0.485, 0.456, 0.406),(0.229, 0.224, 0.225)),\n",
        "                ToTensor()\n",
        "            ])\n",
        "test_transform = albu.Compose([\n",
        "                albu.Resize(256,256),\n",
        "                albu.Normalize((0.485, 0.456, 0.406),(0.229, 0.224, 0.225)),\n",
        "                ToTensor()\n",
        "            ])"
      ],
      "execution_count": 15,
      "outputs": []
    },
    {
      "cell_type": "code",
      "metadata": {
        "id": "cKb2jNWrdTU9"
      },
      "source": [
        "  # Going to use efficientnet-b0 NN architecture\n",
        "skf = StratifiedKFold(n_splits=5, random_state=47, shuffle=True)"
      ],
      "execution_count": 16,
      "outputs": []
    },
    {
      "cell_type": "code",
      "metadata": {
        "colab": {
          "base_uri": "https://localhost:8080/",
          "height": 419
        },
        "id": "gbvj0p25wBzU",
        "outputId": "2dc62c64-53ce-493c-bf16-aba9501cfa54"
      },
      "source": [
        "train_df = train_df.sample(frac=1).reset_index(drop=True) #shuffling the train data\n",
        "train_df"
      ],
      "execution_count": 17,
      "outputs": [
        {
          "output_type": "execute_result",
          "data": {
            "text/html": [
              "<div>\n",
              "<style scoped>\n",
              "    .dataframe tbody tr th:only-of-type {\n",
              "        vertical-align: middle;\n",
              "    }\n",
              "\n",
              "    .dataframe tbody tr th {\n",
              "        vertical-align: top;\n",
              "    }\n",
              "\n",
              "    .dataframe thead th {\n",
              "        text-align: right;\n",
              "    }\n",
              "</style>\n",
              "<table border=\"1\" class=\"dataframe\">\n",
              "  <thead>\n",
              "    <tr style=\"text-align: right;\">\n",
              "      <th></th>\n",
              "      <th>Unnamed: 0</th>\n",
              "      <th>name</th>\n",
              "      <th>label</th>\n",
              "    </tr>\n",
              "  </thead>\n",
              "  <tbody>\n",
              "    <tr>\n",
              "      <th>0</th>\n",
              "      <td>1590</td>\n",
              "      <td>verymildDem444.jpg</td>\n",
              "      <td>1</td>\n",
              "    </tr>\n",
              "    <tr>\n",
              "      <th>1</th>\n",
              "      <td>3919</td>\n",
              "      <td>nonDem1218.jpg</td>\n",
              "      <td>0</td>\n",
              "    </tr>\n",
              "    <tr>\n",
              "      <th>2</th>\n",
              "      <td>4510</td>\n",
              "      <td>nonDem2019.jpg</td>\n",
              "      <td>0</td>\n",
              "    </tr>\n",
              "    <tr>\n",
              "      <th>3</th>\n",
              "      <td>4688</td>\n",
              "      <td>nonDem97.jpg</td>\n",
              "      <td>0</td>\n",
              "    </tr>\n",
              "    <tr>\n",
              "      <th>4</th>\n",
              "      <td>4897</td>\n",
              "      <td>nonDem2287.jpg</td>\n",
              "      <td>0</td>\n",
              "    </tr>\n",
              "    <tr>\n",
              "      <th>...</th>\n",
              "      <td>...</td>\n",
              "      <td>...</td>\n",
              "      <td>...</td>\n",
              "    </tr>\n",
              "    <tr>\n",
              "      <th>5116</th>\n",
              "      <td>3095</td>\n",
              "      <td>nonDem1125.jpg</td>\n",
              "      <td>0</td>\n",
              "    </tr>\n",
              "    <tr>\n",
              "      <th>5117</th>\n",
              "      <td>2896</td>\n",
              "      <td>nonDem2278.jpg</td>\n",
              "      <td>0</td>\n",
              "    </tr>\n",
              "    <tr>\n",
              "      <th>5118</th>\n",
              "      <td>691</td>\n",
              "      <td>mildDem582.jpg</td>\n",
              "      <td>1</td>\n",
              "    </tr>\n",
              "    <tr>\n",
              "      <th>5119</th>\n",
              "      <td>3336</td>\n",
              "      <td>nonDem1494.jpg</td>\n",
              "      <td>0</td>\n",
              "    </tr>\n",
              "    <tr>\n",
              "      <th>5120</th>\n",
              "      <td>1926</td>\n",
              "      <td>verymildDem276.jpg</td>\n",
              "      <td>1</td>\n",
              "    </tr>\n",
              "  </tbody>\n",
              "</table>\n",
              "<p>5121 rows × 3 columns</p>\n",
              "</div>"
            ],
            "text/plain": [
              "      Unnamed: 0                name  label\n",
              "0           1590  verymildDem444.jpg      1\n",
              "1           3919      nonDem1218.jpg      0\n",
              "2           4510      nonDem2019.jpg      0\n",
              "3           4688        nonDem97.jpg      0\n",
              "4           4897      nonDem2287.jpg      0\n",
              "...          ...                 ...    ...\n",
              "5116        3095      nonDem1125.jpg      0\n",
              "5117        2896      nonDem2278.jpg      0\n",
              "5118         691      mildDem582.jpg      1\n",
              "5119        3336      nonDem1494.jpg      0\n",
              "5120        1926  verymildDem276.jpg      1\n",
              "\n",
              "[5121 rows x 3 columns]"
            ]
          },
          "metadata": {
            "tags": []
          },
          "execution_count": 17
        }
      ]
    },
    {
      "cell_type": "markdown",
      "metadata": {
        "id": "fN88j_vYceRd"
      },
      "source": [
        "# Training"
      ]
    },
    {
      "cell_type": "code",
      "metadata": {
        "id": "YGl5izNgdTVY"
      },
      "source": [
        "# Number of epochs to run\n",
        "model_path = 'model.pth'  # Path and filename to save model to\n",
        "es_patience = 5  # Early Stopping patience - for how many epochs with no improvements to wait\n",
        "\n",
        "oof = np.zeros((len(train_df), 1))  # Out Of Fold predictions\n",
        "\n",
        "# We stratify by target value, thus, according to sklearn StratifiedKFold documentation\n",
        "# We can fill `X` with zeroes of corresponding length to use it as a placeholder\n",
        "# since we only need `y` to stratify the data\n",
        "def train_model(model,criterion,optimizer,scheduler,epochs=25):\n",
        "    for fold, (train_idx, val_idx) in enumerate(skf.split(X=np.zeros(len(train_df)), y=train_df['label']), 1):\n",
        "    \n",
        "        if fold==1:\n",
        "            print('=' * 20, 'Fold', fold, '=' * 20)\n",
        "            best_val = None  # Best validation score within this fold\n",
        "            patience = es_patience  # Current patience counter\n",
        "        \n",
        "    \n",
        "            train = Dataset(df=train_df.iloc[train_idx].reset_index(drop=True), train=True, transforms=train_transform)\n",
        "            val = Dataset(df=train_df.iloc[val_idx].reset_index(drop=True),  train=True, transforms=test_transform)  \n",
        "    \n",
        "            train_loader = DataLoader(dataset=train, batch_size=128, shuffle=True)   \n",
        "            val_loader = DataLoader(dataset=val, batch_size=64, shuffle=False)\n",
        "       #     test_loader = DataLoader(dataset=test, batch_size=64, shuffle=False)\n",
        "            val_roc=0\n",
        "            for epoch in range(epochs):\n",
        "                start_time = time.time()\n",
        "                correct = 0\n",
        "                epoch_loss = 0\n",
        "                scheduler.step(val_roc)\n",
        "                model.train()\n",
        "        \n",
        "                for x, y in train_loader:\n",
        "                    x = torch.tensor(x, device=device, dtype=torch.float32)\n",
        "                    y = torch.tensor(y, device=device, dtype=torch.float32)\n",
        "            \n",
        "                    optimizer.zero_grad()\n",
        "            \n",
        "                    z = model(x)\n",
        "                    loss = criterion(z, y.unsqueeze(1))\n",
        "                    loss.backward()\n",
        "                    optimizer.step()\n",
        "                    pred = torch.round(torch.sigmoid(z))  # round off sigmoid to obtain predictions\n",
        "                    correct += (pred.cpu() == y.cpu().unsqueeze(1)).sum().item()  # tracking number of correctly predicted samples\n",
        "                    epoch_loss += loss.item()\n",
        "                train_acc = correct / len(train_idx)\n",
        "\n",
        "                model.eval()  # switch model to the evaluation mode\n",
        "                val_preds = torch.zeros((len(val_idx), 1), dtype=torch.float32, device=device)\n",
        "                with torch.no_grad():  # Do not calculate gradient since we are only predicting\n",
        "                    # Predicting on validation set\n",
        "                    for j, (x_val, y_val) in enumerate(val_loader):\n",
        "                        x_val = torch.tensor(x_val, device=device, dtype=torch.float32)\n",
        "                        y_val = torch.tensor(y_val, device=device, dtype=torch.float32)\n",
        "                        z_val = model(x_val)\n",
        "                        val_pred = torch.sigmoid(z_val)\n",
        "                        val_preds[j*x_val.shape[0]:j*x_val.shape[0] + x_val.shape[0]] = val_pred\n",
        "                    val_acc = accuracy_score(train_df.iloc[val_idx]['label'].values, torch.round(val_preds.cpu()))\n",
        "                    val_roc = roc_auc_score(train_df.iloc[val_idx]['label'].values, val_preds.cpu())\n",
        "            \n",
        "                    print('Epoch {:03}: | Loss: {:.3f} | Train acc: {:.3f} | Val acc: {:.3f} | Val roc_auc: {:.3f} | Training time: {}'.format(\n",
        "                    epoch + 1, \n",
        "                    epoch_loss, \n",
        "                    train_acc, \n",
        "                    val_acc, \n",
        "                    val_roc, \n",
        "                    str(datetime.timedelta(seconds=time.time() - start_time))))\n",
        "            \n",
        "                    # During the first iteration (first epoch) best validation is set to None\n",
        "                    if not best_val:\n",
        "                        best_val = val_roc  # So any validation roc_auc we have is the best one for now\n",
        "                        torch.save(model, model_path)  # Saving the model\n",
        "                        continue\n",
        "                \n",
        "                    if val_roc >= best_val:\n",
        "                        best_val = val_roc\n",
        "                        patience = es_patience  # Resetting patience since we have new best validation accuracy\n",
        "                        torch.save(model, model_path)  # Saving current best model\n",
        "                        torch.save(model.state_dict(),'./checkpoint/current_checkpoint.pt')\n",
        "                    else:\n",
        "                        patience -= 1\n",
        "                        if patience == 0:\n",
        "                            print('Early stopping. Best Val roc_auc: {:.3f}'.format(best_val))\n",
        "                            break\n",
        "        else :\n",
        "            break\n",
        "   "
      ],
      "execution_count": 18,
      "outputs": []
    },
    {
      "cell_type": "markdown",
      "metadata": {
        "id": "IOJG2_yeX2nb"
      },
      "source": [
        "Freeze all the layers except the last for few epochs. helps in fatser convergence of the model"
      ]
    },
    {
      "cell_type": "code",
      "metadata": {
        "colab": {
          "base_uri": "https://localhost:8080/",
          "height": 120,
          "referenced_widgets": [
            "3ddc50a37bf74d4f95ec4c0cf60b9cc8",
            "130488f1c85e4bb29a627316b40d365d",
            "3159dce9c8974b1bb4f8a3fa0e05b33c",
            "90b59c18469b4ec59d801f6dabe8ce7b",
            "76bc85c702dd4437afc63f22a4cde1c3",
            "531c053cec364a26902ec4416814c539",
            "7e5d8a6b721f4548beae4ca2c6a19694",
            "b9b14339467042159a08297eaf06765e"
          ]
        },
        "id": "W55COHJddTVi",
        "outputId": "c1024319-e965-4012-8266-2123efed1c5e"
      },
      "source": [
        "model = EfficientNet.from_pretrained('efficientnet-b0')\n",
        "for param in model.parameters():\n",
        "    param.requires_grad = False\n",
        "\n",
        "in_features = model._fc.in_features\n",
        "classifier =nn.Linear(in_features, 1)\n",
        "model._fc=classifier\n",
        "\n",
        "if torch.cuda.is_available():\n",
        "    model = model.cuda()\n",
        "     \n",
        "optimizer = Ranger(model.parameters(), lr=0.001,weight_decay=1e-3)\n",
        "scheduler = torch.optim.lr_scheduler.ReduceLROnPlateau(optimizer, mode='max', factor=0.3, patience=4, verbose=False, threshold=0.001, threshold_mode='rel', cooldown=0, min_lr=0, eps=1e-08)\n",
        "weight = torch.tensor([32542])/1168\n",
        "weight=weight.cuda()\n",
        "criterion = nn.BCEWithLogitsLoss(pos_weight=weight)"
      ],
      "execution_count": 23,
      "outputs": [
        {
          "output_type": "stream",
          "text": [
            "Downloading: \"https://github.com/lukemelas/EfficientNet-PyTorch/releases/download/1.0/efficientnet-b0-355c32eb.pth\" to /root/.cache/torch/hub/checkpoints/efficientnet-b0-355c32eb.pth\n"
          ],
          "name": "stderr"
        },
        {
          "output_type": "display_data",
          "data": {
            "application/vnd.jupyter.widget-view+json": {
              "model_id": "3ddc50a37bf74d4f95ec4c0cf60b9cc8",
              "version_minor": 0,
              "version_major": 2
            },
            "text/plain": [
              "HBox(children=(FloatProgress(value=0.0, max=21388428.0), HTML(value='')))"
            ]
          },
          "metadata": {
            "tags": []
          }
        },
        {
          "output_type": "stream",
          "text": [
            "\n",
            "Loaded pretrained weights for efficientnet-b0\n"
          ],
          "name": "stdout"
        }
      ]
    },
    {
      "cell_type": "code",
      "metadata": {
        "colab": {
          "base_uri": "https://localhost:8080/"
        },
        "id": "qez459QNdTVn",
        "outputId": "6dec4452-c545-4a3a-aba8-e73a8497e9d2"
      },
      "source": [
        "model=train_model(model,criterion,optimizer,scheduler,epochs=4)"
      ],
      "execution_count": 24,
      "outputs": [
        {
          "output_type": "stream",
          "text": [
            "==================== Fold 1 ====================\n",
            "Epoch 001: | Loss: 255.158 | Train acc: 0.506 | Val acc: 0.501 | Val roc_auc: 0.566 | Training time: 0:00:19.937381\n",
            "Epoch 002: | Loss: 214.429 | Train acc: 0.503 | Val acc: 0.501 | Val roc_auc: 0.595 | Training time: 0:00:19.599693\n",
            "Epoch 003: | Loss: 171.860 | Train acc: 0.501 | Val acc: 0.501 | Val roc_auc: 0.610 | Training time: 0:00:19.612824\n",
            "Epoch 004: | Loss: 140.449 | Train acc: 0.500 | Val acc: 0.501 | Val roc_auc: 0.631 | Training time: 0:00:19.600694\n"
          ],
          "name": "stdout"
        }
      ]
    },
    {
      "cell_type": "markdown",
      "metadata": {
        "id": "nsg_iolqYZsH"
      },
      "source": [
        "Unfreeze all the layers"
      ]
    },
    {
      "cell_type": "code",
      "metadata": {
        "colab": {
          "base_uri": "https://localhost:8080/"
        },
        "id": "r4oEChbgdTVs",
        "outputId": "4a4f9375-425d-4a62-e4c1-90dab0cb49b5"
      },
      "source": [
        "model = EfficientNet.from_pretrained('efficientnet-b0')\n",
        "for param in model.parameters():\n",
        "    param.requires_grad = True\n",
        "\n",
        "in_features = model._fc.in_features\n",
        "classifier =nn.Linear(in_features, 1)\n",
        "model._fc=classifier\n",
        "\n",
        "if torch.cuda.is_available():\n",
        "    model = model.cuda()\n",
        "model.load_state_dict(torch.load('./checkpoint/current_checkpoint.pt'),strict=True)    \n",
        "optimizer = Ranger(model.parameters(), lr=0.001,weight_decay=1e-3)\n",
        "scheduler = torch.optim.lr_scheduler.ReduceLROnPlateau(optimizer, mode='max', factor=0.3, patience=4, verbose=False, threshold=0.001, threshold_mode='rel', cooldown=0, min_lr=0, eps=1e-08)\n",
        "weight = torch.tensor([32542])/1168\n",
        "weight=weight.cuda()\n",
        "criterion = nn.BCEWithLogitsLoss(pos_weight=weight)\n"
      ],
      "execution_count": 25,
      "outputs": [
        {
          "output_type": "stream",
          "text": [
            "Loaded pretrained weights for efficientnet-b0\n"
          ],
          "name": "stdout"
        }
      ]
    },
    {
      "cell_type": "code",
      "metadata": {
        "colab": {
          "base_uri": "https://localhost:8080/"
        },
        "id": "7edf5F1MdTVx",
        "outputId": "32252e14-d2a5-4eb1-c362-dd4a21f062a8"
      },
      "source": [
        "model=train_model(model,criterion,optimizer,scheduler,epochs=10)"
      ],
      "execution_count": 26,
      "outputs": [
        {
          "output_type": "stream",
          "text": [
            "==================== Fold 1 ====================\n",
            "Epoch 001: | Loss: 90.998 | Train acc: 0.499 | Val acc: 0.501 | Val roc_auc: 0.706 | Training time: 0:00:35.246843\n",
            "Epoch 002: | Loss: 57.069 | Train acc: 0.517 | Val acc: 0.501 | Val roc_auc: 0.756 | Training time: 0:00:35.078471\n",
            "Epoch 003: | Loss: 49.086 | Train acc: 0.568 | Val acc: 0.622 | Val roc_auc: 0.782 | Training time: 0:00:35.196994\n",
            "Epoch 004: | Loss: 41.384 | Train acc: 0.643 | Val acc: 0.743 | Val roc_auc: 0.825 | Training time: 0:00:35.204285\n",
            "Epoch 005: | Loss: 31.559 | Train acc: 0.710 | Val acc: 0.737 | Val roc_auc: 0.847 | Training time: 0:00:35.121698\n",
            "Epoch 006: | Loss: 21.004 | Train acc: 0.804 | Val acc: 0.777 | Val roc_auc: 0.872 | Training time: 0:00:35.047263\n",
            "Epoch 007: | Loss: 14.731 | Train acc: 0.883 | Val acc: 0.765 | Val roc_auc: 0.890 | Training time: 0:00:35.124234\n",
            "Epoch 008: | Loss: 10.402 | Train acc: 0.918 | Val acc: 0.764 | Val roc_auc: 0.911 | Training time: 0:00:35.612751\n",
            "Epoch 009: | Loss: 9.396 | Train acc: 0.935 | Val acc: 0.847 | Val roc_auc: 0.932 | Training time: 0:00:35.042728\n",
            "Epoch 010: | Loss: 6.948 | Train acc: 0.948 | Val acc: 0.820 | Val roc_auc: 0.946 | Training time: 0:00:35.078429\n"
          ],
          "name": "stdout"
        }
      ]
    },
    {
      "cell_type": "code",
      "metadata": {
        "id": "10-PZMZKdTWL"
      },
      "source": [
        ""
      ],
      "execution_count": null,
      "outputs": []
    },
    {
      "cell_type": "code",
      "metadata": {
        "id": "zTwrEAjMdTWP"
      },
      "source": [
        ""
      ],
      "execution_count": null,
      "outputs": []
    }
  ]
}